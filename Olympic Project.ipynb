{
 "cells": [
  {
   "cell_type": "markdown",
   "metadata": {},
   "source": [
    "# Final Project: Olympic success factors\n",
    "\n",
    "#### Introduction\n",
    "\n",
    "The modern Olympic Games are international sporting events in which thousands of athletes represent their nation from around the world to compete against one another to be an Olympic champion. The Olympics is the largest sporting event in the world, where the winner and its nation is recognized on a global platform. The number of metals a country has won in the Olympics, is a way of signifying a nation's strength, culture, and national pride. \n",
    "\n",
    "This project goal is to identify factors that are good indication of a countrie's success in the Olympics. The factors we will be exploring are changes in Life expectancy, GDP, GDP growth, and population of ####various nations###. \n",
    "\n",
    "The project will use data from ____________ and ____________. \n",
    "\n",
    "\n",
    "was first held on April 6, 1896\n"
   ]
  },
  {
   "cell_type": "code",
   "execution_count": null,
   "metadata": {},
   "outputs": [],
   "source": []
  },
  {
   "cell_type": "code",
   "execution_count": null,
   "metadata": {},
   "outputs": [],
   "source": []
  },
  {
   "cell_type": "code",
   "execution_count": null,
   "metadata": {},
   "outputs": [],
   "source": []
  },
  {
   "cell_type": "code",
   "execution_count": null,
   "metadata": {},
   "outputs": [],
   "source": [
    "import pandas as pd\n",
    "election = pd.read_csv('https://raw.githubusercontent.com/mwaugh0328/Data_Bootcamp_Fall_2017/master/data_bootcamp_1127/trump_data.csv',\n",
    "                       encoding='latin-1')"
   ]
  }
 ],
 "metadata": {
  "kernelspec": {
   "display_name": "Python 3",
   "language": "python",
   "name": "python3"
  },
  "language_info": {
   "codemirror_mode": {
    "name": "ipython",
    "version": 3
   },
   "file_extension": ".py",
   "mimetype": "text/x-python",
   "name": "python",
   "nbconvert_exporter": "python",
   "pygments_lexer": "ipython3",
   "version": "3.6.5"
  }
 },
 "nbformat": 4,
 "nbformat_minor": 2
}
